{
 "cells": [
  {
   "cell_type": "markdown",
   "metadata": {},
   "source": [
   
   ]
  },
  {
   "cell_type": "markdown",
   "metadata": {},
   "source": [
    "# General Conclusions\n",
    "\n",
    "**1.** The average revenue per user (ARPU) in test group B was 5% higher than in control group A.  \n",
    "However, the results of statistical tests — the t-test (p ≈ 0.53) and bootstrap analysis (p ≈ 0.269, 95% CI: [-2.97, 5.45]) — do not confirm the significance of this difference.  \n",
    "The application of the t-test is justified due to the large sample sizes (more than 200,000 users in each group), which allows the use of the Central Limit Theorem despite the non-normal distribution.  \n",
    "\n",
    "**2.** The conversion rate (CR) to paying users is statistically significantly higher in control group A:  \n",
    "0.95% versus 0.89% in group B (z-test, p ≈ 0.035).  \n",
    "This indicates that offer A is more effective in encouraging users to make their first payment.  \n",
    "\n",
    "**3.** The average revenue per paying user (ARPPU) is higher in test group B — 3004 compared to 2664 in control group A.  \n",
    "However, the conducted t-test (p ≈ 0.1002) did not show a statistically significant difference.  \n",
    "This means that the difference between groups could have arisen by chance and cannot be considered a stable test result.  \n",
    "\n",
    "**4.** To assess potential revenue stability, ARPU variances were analyzed.  \n",
    "Although the standard deviation of revenue in group B is lower (287 versus 920 in group A), the Levene’s test (p ≈ 0.53) did not reveal a statistically significant difference in variances between the groups.  \n",
    "Therefore, the assumption of higher stability or predictability of revenue in group B is not formally supported.  \n",
    "\n",
    "**5.** Taken together, the data show that group A is more effective at converting users into payers, while group B demonstrates higher revenue per paying user — but without statistical confidence in ARPU growth or stability of metrics.  \n"
   ]
  },
  {
   "cell_type": "markdown",
   "metadata": {},
   "source": [
    "## Recommendations for Analysis\n",
    "\n",
    "- Do not roll out the offer from group B on a large scale, as it does not provide a stable and statistically significant increase in key metrics.\n",
    "\n",
    "- Conduct additional analysis of paying users in group B (retention, LTV, segmentation).\n",
    "\n",
    "- Consider a hybrid approach: use the structure of offer A for user engagement, while adopting monetization elements from B to increase revenue in certain segments.\n",
    "\n",
    "- Explore the potential of personalization: identify user groups for which offer B may be the most relevant.\n"
   ]
  },
  {
   "cell_type": "code",
   "execution_count": null,
   "metadata": {},
   "outputs": [],
   "source": []
  },
  {
   "cell_type": "code",
   "execution_count": 6,
   "metadata": {},
   "outputs": [],
   "source": [
    "import gdown\n",
    "import pandas as pd\n",
    "from operator import attrgetter\n",
    "import seaborn as sns\n",
    "from matplotlib import pyplot as plt\n",
    "import statsmodels.api as sm\n",
    "from scipy.stats import mannwhitneyu\n",
    "from scipy.stats import ttest_ind\n",
    "import numpy as np\n",
    "from statsmodels.stats.proportion import proportions_ztest\n",
    "from scipy.stats import levene"
   ]
  },
  {
   "cell_type": "code",
   "execution_count": 8,
   "metadata": {},
   "outputs": [
    {
     "name": "stderr",
     "output_type": "stream",
     "text": [
      "Downloading...\n",
      "From: https://drive.google.com/uc?export=download&id=1YQSOVz5XntlFXPt8t5AtU9wolmDmhj4P\n",
      "To: /Users/pashaborisiuk/Desktop/Analytic/final/Project_1.csv\n",
      "100%|██████████| 4.35M/4.35M [00:00<00:00, 12.8MB/s]\n"
     ]
    }
   ],
   "source": [
    "file_id = \"1YQSOVz5XntlFXPt8t5AtU9wolmDmhj4P\"\n",
    "url = f\"https://drive.google.com/uc?export=download&id={file_id}\"\n",
    "\n",
    "gdown.download(url, \"Project_1.csv\", quiet=False)\n",
    "\n",
    "test = pd.read_csv(\"Project_1.csv\", sep=\";\")"
   ]
  },
  {
   "cell_type": "code",
   "execution_count": 9,
   "metadata": {},
   "outputs": [
    {
     "data": {
      "text/html": [
       "<div>\n",
       "<style scoped>\n",
       "    .dataframe tbody tr th:only-of-type {\n",
       "        vertical-align: middle;\n",
       "    }\n",
       "\n",
       "    .dataframe tbody tr th {\n",
       "        vertical-align: top;\n",
       "    }\n",
       "\n",
       "    .dataframe thead th {\n",
       "        text-align: right;\n",
       "    }\n",
       "</style>\n",
       "<table border=\"1\" class=\"dataframe\">\n",
       "  <thead>\n",
       "    <tr style=\"text-align: right;\">\n",
       "      <th></th>\n",
       "      <th>user_id</th>\n",
       "      <th>revenue</th>\n",
       "      <th>testgroup</th>\n",
       "    </tr>\n",
       "  </thead>\n",
       "  <tbody>\n",
       "    <tr>\n",
       "      <th>0</th>\n",
       "      <td>1</td>\n",
       "      <td>0</td>\n",
       "      <td>b</td>\n",
       "    </tr>\n",
       "    <tr>\n",
       "      <th>1</th>\n",
       "      <td>2</td>\n",
       "      <td>0</td>\n",
       "      <td>a</td>\n",
       "    </tr>\n",
       "    <tr>\n",
       "      <th>2</th>\n",
       "      <td>3</td>\n",
       "      <td>0</td>\n",
       "      <td>a</td>\n",
       "    </tr>\n",
       "    <tr>\n",
       "      <th>3</th>\n",
       "      <td>4</td>\n",
       "      <td>0</td>\n",
       "      <td>b</td>\n",
       "    </tr>\n",
       "    <tr>\n",
       "      <th>4</th>\n",
       "      <td>5</td>\n",
       "      <td>0</td>\n",
       "      <td>b</td>\n",
       "    </tr>\n",
       "  </tbody>\n",
       "</table>\n",
       "</div>"
      ],
      "text/plain": [
       "   user_id  revenue testgroup\n",
       "0        1        0         b\n",
       "1        2        0         a\n",
       "2        3        0         a\n",
       "3        4        0         b\n",
       "4        5        0         b"
      ]
     },
     "execution_count": 9,
     "metadata": {},
     "output_type": "execute_result"
    }
   ],
   "source": [
    "test.head()"
   ]
  },
  {
   "cell_type": "code",
   "execution_count": 10,
   "metadata": {},
   "outputs": [
    {
     "data": {
      "text/plain": [
       "np.int64(37433)"
      ]
     },
     "execution_count": 10,
     "metadata": {},
     "output_type": "execute_result"
    }
   ],
   "source": [
    "test.revenue.max()"
   ]
  },
  {
   "cell_type": "code",
   "execution_count": 11,
   "metadata": {},
   "outputs": [
    {
     "data": {
      "text/html": [
       "<div>\n",
       "<style scoped>\n",
       "    .dataframe tbody tr th:only-of-type {\n",
       "        vertical-align: middle;\n",
       "    }\n",
       "\n",
       "    .dataframe tbody tr th {\n",
       "        vertical-align: top;\n",
       "    }\n",
       "\n",
       "    .dataframe thead th {\n",
       "        text-align: right;\n",
       "    }\n",
       "</style>\n",
       "<table border=\"1\" class=\"dataframe\">\n",
       "  <thead>\n",
       "    <tr style=\"text-align: right;\">\n",
       "      <th></th>\n",
       "      <th>user_id</th>\n",
       "      <th>revenue</th>\n",
       "      <th>testgroup</th>\n",
       "    </tr>\n",
       "  </thead>\n",
       "  <tbody>\n",
       "    <tr>\n",
       "      <th>101861</th>\n",
       "      <td>101862</td>\n",
       "      <td>37433</td>\n",
       "      <td>a</td>\n",
       "    </tr>\n",
       "  </tbody>\n",
       "</table>\n",
       "</div>"
      ],
      "text/plain": [
       "        user_id  revenue testgroup\n",
       "101861   101862    37433         a"
      ]
     },
     "execution_count": 11,
     "metadata": {},
     "output_type": "execute_result"
    }
   ],
   "source": [
    "test.query('revenue == 37433')"
   ]
  },
  {
   "cell_type": "code",
   "execution_count": 12,
   "metadata": {},
   "outputs": [
    {
     "name": "stdout",
     "output_type": "stream",
     "text": [
      "  testgroup  revenue\n",
      "0         a   202103\n",
      "1         b   202667\n"
     ]
    }
   ],
   "source": [
    "# Number of customers in each group\n",
    "clients_amount = test.groupby('testgroup', as_index=False).agg({'revenue': 'count'})\n",
    "print(clients_amount)"
   ]
  },
  {
   "cell_type": "code",
   "execution_count": 13,
   "metadata": {},
   "outputs": [
    {
     "name": "stdout",
     "output_type": "stream",
     "text": [
      "  testgroup  revenue\n",
      "0         a  5136189\n",
      "1         b  5421603\n"
     ]
    }
   ],
   "source": [
    "# Total revenue from each group\n",
    "total_revenue = test.groupby('testgroup', as_index=False).agg({'revenue': 'sum'})\n",
    "print(total_revenue)"
   ]
  },
  {
   "cell_type": "code",
   "execution_count": 14,
   "metadata": {},
   "outputs": [
    {
     "data": {
      "text/html": [
       "<div>\n",
       "<style scoped>\n",
       "    .dataframe tbody tr th:only-of-type {\n",
       "        vertical-align: middle;\n",
       "    }\n",
       "\n",
       "    .dataframe tbody tr th {\n",
       "        vertical-align: top;\n",
       "    }\n",
       "\n",
       "    .dataframe thead th {\n",
       "        text-align: right;\n",
       "    }\n",
       "</style>\n",
       "<table border=\"1\" class=\"dataframe\">\n",
       "  <thead>\n",
       "    <tr style=\"text-align: right;\">\n",
       "      <th></th>\n",
       "      <th>testgroup</th>\n",
       "      <th>revenue</th>\n",
       "    </tr>\n",
       "  </thead>\n",
       "  <tbody>\n",
       "    <tr>\n",
       "      <th>0</th>\n",
       "      <td>a</td>\n",
       "      <td>25.41</td>\n",
       "    </tr>\n",
       "    <tr>\n",
       "      <th>1</th>\n",
       "      <td>b</td>\n",
       "      <td>26.75</td>\n",
       "    </tr>\n",
       "  </tbody>\n",
       "</table>\n",
       "</div>"
      ],
      "text/plain": [
       "  testgroup  revenue\n",
       "0         a    25.41\n",
       "1         b    26.75"
      ]
     },
     "execution_count": 14,
     "metadata": {},
     "output_type": "execute_result"
    }
   ],
   "source": [
    "# Average revenue per user (ARPU) for each group\n",
    "test.groupby('testgroup', as_index=False).agg({'revenue': 'mean'}).round(2)"
   ]
  },
  {
   "cell_type": "code",
   "execution_count": 15,
   "metadata": {},
   "outputs": [
    {
     "name": "stdout",
     "output_type": "stream",
     "text": [
      "  testgroup  revenue\n",
      "0         a     1928\n",
      "1         b     1805\n"
     ]
    }
   ],
   "source": [
    "# Number of payments in each group\n",
    "payment_count = test.query('revenue > 0').groupby('testgroup', as_index=False).agg({'revenue': 'count'})\n",
    "print(payment_count)"
   ]
  },
  {
   "cell_type": "code",
   "execution_count": 16,
   "metadata": {},
   "outputs": [
    {
     "name": "stdout",
     "output_type": "stream",
     "text": [
      "0    0.95\n",
      "1    0.89\n",
      "Name: revenue, dtype: float64\n"
     ]
    }
   ],
   "source": [
    "# Conversion Rate\n",
    "CR = round(payment_count.revenue / clients_amount.revenue * 100, 2)\n",
    "print(CR)"
   ]
  },
  {
   "cell_type": "code",
   "execution_count": 17,
   "metadata": {},
   "outputs": [
    {
     "name": "stdout",
     "output_type": "stream",
     "text": [
      "0    2664.0\n",
      "1    3004.0\n",
      "Name: revenue, dtype: float64\n"
     ]
    }
   ],
   "source": [
    "# Average Revenue Per Paying User (ARPPU)\n",
    "ARPPU = round(total_revenue.revenue / payment_count.revenue, 0)\n",
    "print(ARPPU)"
   ]
  },
  {
   "cell_type": "code",
   "execution_count": 18,
   "metadata": {},
   "outputs": [
    {
     "data": {
      "text/plain": [
       "np.float64(12.8)"
      ]
     },
     "execution_count": 18,
     "metadata": {},
     "output_type": "execute_result"
    }
   ],
   "source": [
    "# ARPPU ratio between groups\n",
    "round((ARPPU[1] - ARPPU[0]) / ARPPU[0] * 100, 1)"
   ]
  },
  {
   "cell_type": "code",
   "execution_count": 20,
   "metadata": {},
   "outputs": [],
   "source": [
    "# ARPU data (all users, including non-paying)\n",
    "arpu_a = test[test['testgroup'] == 'a']['revenue']  # test group\n",
    "arpu_b = test[test['testgroup'] == 'b']['revenue']  # control group"
   ]
  },
  {
   "cell_type": "code",
   "execution_count": 21,
   "metadata": {},
   "outputs": [
    {
     "name": "stdout",
     "output_type": "stream",
     "text": [
      "t = -0.6234876562792211, p = 0.5329647014130874\n"
     ]
    }
   ],
   "source": [
    "# Conducting a t-test\n",
    "t_stat, p_value = ttest_ind(arpu_a, arpu_b, equal_var=False)\n",
    "print(f\"t = {t_stat}, p = {p_value}\")"
   ]
  },
  {
   "cell_type": "code",
   "execution_count": 22,
   "metadata": {},
   "outputs": [
    {
     "data": {
      "image/png": "[encoded data removed]",
      "text/plain": [
       "<Figure size 640x480 with 1 Axes>"
      ]
     },
     "metadata": {},
     "output_type": "display_data"
    }
   ],
   "source": [
    "# Q-Q plot for the test group  \n",
    "# Check whether the distribution is normal\n",
    "sm.qqplot(arpu_a, line='45', fit=True)\n",
    "plt.title('Q-Q plot ARPU (test group)')\n",
    "plt.show()"
   ]
  },
  {
   "cell_type": "code",
   "execution_count": 23,
   "metadata": {},
   "outputs": [
    {
     "name": "stdout",
     "output_type": "stream",
     "text": [
      "p-value Levene test: 0.5324948591043842\n"
     ]
    }
   ],
   "source": [
    "# Conduct Levene's test for equality of ARPU variances between groups\n",
    "levene_stat, levene_p = levene(arpu_a, arpu_b)\n",
    "print(f\"p-value Levene test: {levene_p}\")"
   ]
  },
  {
   "cell_type": "code",
   "execution_count": 24,
   "metadata": {},
   "outputs": [],
   "source": [
    "arppu_a = test[(test['testgroup'] == 'a') & (test['revenue'] > 0)]['revenue']\n",
    "arppu_b = test[(test['testgroup'] == 'b') & (test['revenue'] > 0)]['revenue']"
   ]
  },
  {
   "cell_type": "code",
   "execution_count": 25,
   "metadata": {},
   "outputs": [
    {
     "name": "stdout",
     "output_type": "stream",
     "text": [
      "t-test ARPPU: p-value = 0.1002\n"
     ]
    }
   ],
   "source": [
    "# Conduct Levene's test for equality of ARPU variances between groups\n",
    "stat, p_value = ttest_ind(arppu_a, arppu_b, equal_var=False)\n",
    "print(f\"t-test ARPPU: p-value = {p_value:.4f}\")"
   ]
  },
  {
   "cell_type": "code",
   "execution_count": 26,
   "metadata": {},
   "outputs": [],
   "source": [
    "# Control group (B)\n",
    "payers_b = 1928\n",
    "total_b = 202103"
   ]
  },
  {
   "cell_type": "code",
   "execution_count": 27,
   "metadata": {},
   "outputs": [],
   "source": [
    "# Test group (A)\n",
    "payers_a = 1805\n",
    "total_a = 202667"
   ]
  },
  {
   "cell_type": "code",
   "execution_count": 28,
   "metadata": {},
   "outputs": [],
   "source": [
    "counts = [payers_a, payers_b]  # number of paying users\n",
    "nobs = [total_a, total_b]       # total number of users"
   ]
  },
  {
   "cell_type": "code",
   "execution_count": 29,
   "metadata": {},
   "outputs": [
    {
     "name": "stdout",
     "output_type": "stream",
     "text": [
      "p-value for conversion 0.0350\n"
     ]
    }
   ],
   "source": [
    "# Significance test for conversion difference (z-test)  \n",
    "# Conversion is the share of paying users, so we use a z-test for proportions\n",
    "z_stat, p_value = proportions_ztest(counts, nobs, alternative='two-sided')\n",
    "print(f\"p-value for conversion {p_value:.4f}\")"
   ]
  },
  {
   "cell_type": "code",
   "execution_count": 30,
   "metadata": {},
   "outputs": [
    {
     "data": {
      "image/png": "[encoded data removed]",
      "text/plain": [
       "<Figure size 640x480 with 1 Axes>"
      ]
     },
     "metadata": {},
     "output_type": "display_data"
    }
   ],
   "source": [
    "# Check for outliers in payments using a plot\n",
    "\n",
    "sns.boxplot(x='testgroup', y='revenue', data=test[test['revenue'] > 0])  # Only paying users\n",
    "plt.title('Revenue distribution by groups (ARPPU)')\n",
    "plt.show()"
   ]
  },
  {
   "cell_type": "code",
   "execution_count": 31,
   "metadata": {},
   "outputs": [
    {
     "name": "stdout",
     "output_type": "stream",
     "text": [
      "count    202103.000000\n",
      "mean         25.413720\n",
      "std         920.768137\n",
      "min           0.000000\n",
      "50%           0.000000\n",
      "90%           0.000000\n",
      "95%           0.000000\n",
      "99%           0.000000\n",
      "max       37433.000000\n",
      "Name: revenue, dtype: float64\n",
      "count    202667.000000\n",
      "mean         26.751287\n",
      "std         287.324162\n",
      "min           0.000000\n",
      "50%           0.000000\n",
      "90%           0.000000\n",
      "95%           0.000000\n",
      "99%           0.000000\n",
      "max        4000.000000\n",
      "Name: revenue, dtype: float64\n"
     ]
    }
   ],
   "source": [
    "# Analyze outliers\n",
    "print(arpu_a.describe(percentiles=[.9, .95, .99]))\n",
    "print(arpu_b.describe(percentiles=[.9, .95, .99]))"
   ]
  },
  {
   "cell_type": "code",
   "execution_count": 32,
   "metadata": {},
   "outputs": [
    {
     "name": "stdout",
     "output_type": "stream",
     "text": [
      "95% CI: [-2.97, 5.45]\n",
      "p-value (bootstrap): 0.2690\n"
     ]
    },
    {
     "data": {
      "image/png": "[encoded data removed]",
      "text/plain": [
       "<Figure size 640x480 with 1 Axes>"
      ]
     },
     "metadata": {},
     "output_type": "display_data"
    }
   ],
   "source": [
    "# Bootstrap analysis of ARPU\n",
    "\n",
    "# Parameters\n",
    "n_iterations = 10000\n",
    "np.random.seed(42)\n",
    "\n",
    "# Bootstrap of mean differences\n",
    "boot_diffs = []\n",
    "\n",
    "for _ in range(n_iterations):\n",
    "    sample_a = np.random.choice(arpu_a, size=len(arpu_a), replace=True)\n",
    "    sample_b = np.random.choice(arpu_b, size=len(arpu_b), replace=True)\n",
    "    \n",
    "    diff = sample_b.mean() - sample_a.mean()\n",
    "    boot_diffs.append(diff)\n",
    "\n",
    "boot_diffs = np.array(boot_diffs)\n",
    "\n",
    "# Confidence interval\n",
    "ci_lower = np.percentile(boot_diffs, 2.5)\n",
    "ci_upper = np.percentile(boot_diffs, 97.5)\n",
    "\n",
    "# P-value (proportion of samples where diff <= 0)\n",
    "p_value = np.mean(boot_diffs <= 0)\n",
    "\n",
    "# Output\n",
    "print(f\"95% CI: [{ci_lower:.2f}, {ci_upper:.2f}]\")\n",
    "print(f\"p-value (bootstrap): {p_value:.4f}\")\n",
    "\n",
    "# Visualization\n",
    "plt.hist(boot_diffs, bins=50, edgecolor='k', alpha=0.7)\n",
    "plt.axvline(0, color='red', linestyle='--')\n",
    "plt.title(\"Bootstrap distribution of difference in ARPU\")\n",
    "plt.xlabel(\"Difference (B - A)\")\n",
    "plt.ylabel(\"Frequency\")\n",
    "plt.show()"
   ]
  },
  {
   "cell_type": "code",
   "execution_count": null,
   "metadata": {},
   "outputs": [],
   "source": []
  }
 ],
 "metadata": {
  "kernelspec": {
   "display_name": "Python 3",
   "language": "python",
   "name": "python3"
  },
  "language_info": {
   "codemirror_mode": {
    "name": "ipython",
    "version": 3
   },
   "file_extension": ".py",
   "mimetype": "text/x-python",
   "name": "python",
   "nbconvert_exporter": "python",
   "pygments_lexer": "ipython3",
   "version": "3.13.3"
  }
 },
 "nbformat": 4,
 "nbformat_minor": 4
}
